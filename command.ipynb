{
 "cells": [
  {
   "cell_type": "markdown",
   "metadata": {},
   "source": [
    "# Basic command\n",
    "\n",
    "**id :** user id\n",
    "\n",
    "**id username :** id specific user"
   ]
  },
  {
   "cell_type": "markdown",
   "metadata": {},
   "source": [
    "**su - :** Switch to the root user\n",
    "\n",
    "**exit :** Exit the current user\n",
    "\n",
    "**eject :** Eject the CD-ROM\n",
    "\n",
    "**eject -t* :** Eject and close the CD-ROM tray\n",
    "\n",
    "**ls :** List files in the current directory\n",
    "\n",
    "**ls / :** List files in the root directory\n",
    "\n",
    "**cat :** Display the contents of a file\n",
    "\n",
    "**pwd :** Print the current working directory\n",
    "\n",
    "**cd :** Change directory\n",
    "\n",
    "**cd - :** Change to the previous directory\n",
    "\n",
    "**cd ~ :** Change to the home directory\n",
    "\n",
    "**cd ~user :** Change to the home directory of a specific user (replace 'user' with the actual username)\n",
    "\n",
    "**touch :** Create an empty file with the specified filename\n",
    "\n",
    "**. :** Represent the current directory\n",
    "\n",
    "**.. :** Represent the parent directory\n",
    "\n",
    "**cd .. :** Move to the parent directory\n",
    "\n",
    "---"
   ]
  },
  {
   "cell_type": "markdown",
   "metadata": {},
   "source": [
    "# File system utilities\n",
    "\n",
    "**tree :** Display directory tree structure\n",
    "\n",
    "**mkdir dirname :** Create a new directory named \"dirname\"\n",
    "\n",
    "**mkdir dirname1 dirname2 dirname3 :** Create multiple directories named \"dirname1,\" \"dirname2,\" and \"dirname3\"\n",
    "\n",
    "**cp file file2 :** Copy the file \"file\" to \"file2\"\n",
    "\n",
    "**cp file /tmp :** Copy the file \"file\" to the /tmp directory\n",
    "\n",
    "**cp -r dir1 /dir2/ :** Copy the contents of \"dir1\" to \"/dir2/\" recursively\n",
    "\n",
    "**cp -r dir/ /tmp/report :** Copy the contents of \"dir/\" to \"/tmp/report\" recursively\n",
    "\n",
    "**mv work/ /var/ :** Move the \"work/\" directory to /var/\n",
    "\n",
    "**mv dir1 /tmp/newdir :** Move the \"dir1\" directory to /tmp/newdir\n",
    "\n",
    "**rm file :** Remove the file named \"file\"\n",
    "\n",
    "**rmdir dir2 :** Remove the empty directory \"dir2\"\n",
    "\n",
    "**rm -r dir2 :** Remove the directory \"dir2\" and its contents\n",
    "\n",
    "**rm -rf dir :** Remove the directory \"dir\" and its contents forcefully\n",
    "\n",
    "**mv file newname _file :** Rename the file \"file\" to \"newname _file\"\n"
   ]
  },
  {
   "cell_type": "markdown",
   "metadata": {},
   "source": [
    "---"
   ]
  },
  {
   "cell_type": "markdown",
   "metadata": {},
   "source": [
    "**ls -l :** List files in long format\n",
    "\n",
    "**ls -a :** List all files, including hidden ones\n",
    "\n",
    "**ls -R :** List files recursively\n",
    "\n",
    "**ls -r :** List files in reverse order\n",
    "\n",
    "**ctrl+a :** Move cursor to the beginning of the line\n",
    "\n",
    "**ctrl+e :** Move cursor to the end of the line\n",
    "\n",
    "**ctrl+k :** Delete text from the cursor position to the end of the line\n",
    "\n",
    "**ctrl+u :** Cut/delete text from the cursor position to the beginning of the line\n",
    "\n",
    "**ctrl+y :** Paste the text that was cut with ctrl+k or ctrl+u\n",
    "\n",
    "**ctrl+d :** Logout or exit (also used to delete the character under the cursor)\n",
    "\n",
    "**clear :** Clear the terminal screen\n",
    "\n",
    "**ctrl+l :** Clear the terminal screen\n",
    "\n",
    "**reset :** Reset the terminal display\n",
    "\n",
    "**ctrl+z :** Suspend a foreground process\n",
    "\n",
    "**bg :** Run suspended process in the background\n",
    "\n",
    "**ctrl+c :** Interrupt or cancel a running command\n",
    "\n",
    "**reboot :** Restart the system\n",
    "\n",
    "**shutdown -r now :** Shutdown and restart the system immediately\n",
    "\n",
    "**systemctl reboot :** Restart the system using systemctl\n",
    "\n",
    "**init 6 :** Change the system runlevel to reboot\n",
    "\n",
    "**shutdown -h now :** Shutdown the system immediately\n",
    "\n",
    "**systemctl shutdown :** Shutdown the system using systemctl\n",
    "\n",
    "**init 0 :** Change the system runlevel to halt\n",
    "\n",
    "**ctrl +s :** Pause terminal output\n",
    "\n",
    "**ctrl+q :** Resume terminal output\n",
    "\n",
    "**ls; date :** Run the 'ls' command and then the 'date' command\n"
   ]
  },
  {
   "cell_type": "markdown",
   "metadata": {},
   "source": [
    "---"
   ]
  },
  {
   "cell_type": "markdown",
   "metadata": {},
   "source": [
    "# User and group command"
   ]
  },
  {
   "cell_type": "markdown",
   "metadata": {},
   "source": [
    "**useradd :** Create a new user account\n",
    "\n",
    "**passwd :** Set or change a user's password\n",
    "\n",
    "**groupadd :** Create a new group\n",
    "\n",
    "**cat /etc/passwd :** Display the contents of the password file\n",
    "\n",
    "**cat /etc/group :** Display the contents of the group file\n",
    "\n",
    "**useradd -g groupname username :** Create a user and assign them to a specific primary group\n",
    "\n",
    "**usermod -G :** Modify a user's supplementary groups\n",
    "\n",
    "**usermod -a -G :** Add a user to additional groups without removing them from their current groups\n",
    "\n",
    "**userdel :** Delete a user account\n",
    "\n",
    "**userdel -r user :** Delete a user account along with their home directory and mail spool\n",
    "\n",
    "**groupdel :** Delete a group\n",
    "\n",
    "**useradd -g :** Create a user and assign them to a specific primary group\n"
   ]
  },
  {
   "cell_type": "markdown",
   "metadata": {},
   "source": [
    "---"
   ]
  },
  {
   "cell_type": "markdown",
   "metadata": {},
   "source": [
    "# Basic permission command\n",
    "\n",
    "**chmod :** Change file permissions\n",
    "\n",
    "**chown :** Change file owner and group\n",
    "\n",
    "**chgrp :** Change group ownership of a file\n",
    "\n",
    "**ls -l :** List files with detailed permissions\n",
    "\n",
    "**umask :** Set the default file permissions for newly created files\n",
    "\n",
    "**chmod +x :** Add execute permission to a file\n",
    "\n",
    "**chmod -x :** Remove execute permission from a file\n",
    "\n",
    "**chmod u+s :** Set the setuid permission\n",
    "\n",
    "**chmod g+s :** Set the setgid permission\n",
    "\n",
    "**chmod o+t :** Set the sticky bit\n",
    "\n",
    "**chmod 644 :** Set read and write permissions for the owner and read-only for others\n",
    "\n",
    "**chmod 755 :** Set read, write, and execute permissions for the owner and read/execute for others\n",
    "\n",
    "**chmod -R :** Recursively change permissions for a directory and its contents\n",
    "\n",
    "**chmod ugo +x :** Add execute permission for the user, group, and others\n",
    "\n"
   ]
  },
  {
   "cell_type": "markdown",
   "metadata": {},
   "source": [
    "---"
   ]
  },
  {
   "cell_type": "markdown",
   "metadata": {},
   "source": [
    "# Redirection"
   ]
  },
  {
   "cell_type": "markdown",
   "metadata": {},
   "source": [
    "**command > file :** Redirect standard output to a file (overwrite)\n",
    "\n",
    "**command >> file :** Redirect standard output to a file (append)\n",
    "\n",
    "**command < file :** Redirect standard input from a file\n",
    "\n",
    "**command 2> file :** Redirect standard error to a file (overwrite)\n",
    "\n",
    "**command 2>> file :** Redirect standard error to a file (append)\n",
    "\n",
    "**command > file 2>&1 :** Redirect standard output and standard error to the same file\n",
    "\n",
    "**command | command :** Pipe the output of one command into another\n",
    "\n",
    "**command > file 2>&1 :** Redirect standard output and standard error to the same file\n",
    "\n",
    "**command > /dev/null :** Discard standard output\n",
    "\n",
    "**command 2> /dev/null :** Discard standard error\n",
    "\n",
    "**command 2&> file :** Redirect both standard output and standard error to a file (overwrite)\n",
    "\n",
    "**command 2&>> file :** Redirect both standard output and standard error to a file (append)\n",
    "\n",
    "**cat <\\<end \\>> file :** Append content to a file using a Here Document\n",
    "\n",
    "**cat file1 >> file2 :** Append the contents of file1 to file2\n",
    "\n",
    "**cat < file1 >> file2 :** Redirect the contents of file1 to file2\n"
   ]
  },
  {
   "cell_type": "markdown",
   "metadata": {},
   "source": [
    "---"
   ]
  },
  {
   "cell_type": "markdown",
   "metadata": {},
   "source": [
    "**file filename :** Determine file type\n",
    "\n",
    "**tee :** Read from standard input and write to standard output and files\n",
    "\n",
    "**less :** View file content with pagination\n",
    "\n",
    "**more :** Display file content one screen at a time\n",
    "\n",
    "**ls -lR / | less :** List files recursively in long format in the root directory and display through the less pager\n"
   ]
  },
  {
   "cell_type": "markdown",
   "metadata": {},
   "source": [
    "# Command Search"
   ]
  },
  {
   "cell_type": "markdown",
   "metadata": {},
   "source": [
    "**w :** Display information about currently logged-in users and their activities\n",
    "\n",
    "**who :** Display information about currently logged-in users\n",
    "\n",
    "**whoami :** Display the current username\n",
    "\n",
    "**whatis command :** Display a short description of a command\n",
    "\n",
    "**whereis command :** Locate the binary, source, and manual page files for a command\n",
    "\n",
    "**last :** Show a list of last logged in users and system reboots\n",
    "\n",
    "**lastlog :** Display the last login information of users\n"
   ]
  }
 ],
 "metadata": {
  "language_info": {
   "name": "python"
  }
 },
 "nbformat": 4,
 "nbformat_minor": 2
}
